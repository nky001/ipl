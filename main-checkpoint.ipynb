{
 "cells": [
  {
   "cell_type": "code",
   "execution_count": 2,
   "id": "09af1761",
   "metadata": {},
   "outputs": [],
   "source": [
    "import pandas as pd\n",
    "import numpy as np\n",
    "import matplotlib.pyplot as plt\n",
    "import seaborn as sns\n",
    "from sklearn import preprocessing\n",
    "import keras \n",
    "import tensorflow as tf"
   ]
  },
  {
   "cell_type": "code",
   "execution_count": 9,
   "id": "70c2ffeb",
   "metadata": {},
   "outputs": [
    {
     "data": {
      "text/html": [
       "<div>\n",
       "<style scoped>\n",
       "    .dataframe tbody tr th:only-of-type {\n",
       "        vertical-align: middle;\n",
       "    }\n",
       "\n",
       "    .dataframe tbody tr th {\n",
       "        vertical-align: top;\n",
       "    }\n",
       "\n",
       "    .dataframe thead th {\n",
       "        text-align: right;\n",
       "    }\n",
       "</style>\n",
       "<table border=\"1\" class=\"dataframe\">\n",
       "  <thead>\n",
       "    <tr style=\"text-align: right;\">\n",
       "      <th></th>\n",
       "      <th>mid</th>\n",
       "      <th>date</th>\n",
       "      <th>venue</th>\n",
       "      <th>bat_team</th>\n",
       "      <th>bowl_team</th>\n",
       "      <th>batsman</th>\n",
       "      <th>bowler</th>\n",
       "      <th>runs</th>\n",
       "      <th>wickets</th>\n",
       "      <th>overs</th>\n",
       "      <th>runs_last_5</th>\n",
       "      <th>wickets_last_5</th>\n",
       "      <th>striker</th>\n",
       "      <th>non-striker</th>\n",
       "      <th>total</th>\n",
       "    </tr>\n",
       "  </thead>\n",
       "  <tbody>\n",
       "    <tr>\n",
       "      <th>0</th>\n",
       "      <td>1</td>\n",
       "      <td>2008-04-18</td>\n",
       "      <td>M Chinnaswamy Stadium</td>\n",
       "      <td>Kolkata Knight Riders</td>\n",
       "      <td>Royal Challengers Bangalore</td>\n",
       "      <td>SC Ganguly</td>\n",
       "      <td>P Kumar</td>\n",
       "      <td>1</td>\n",
       "      <td>0</td>\n",
       "      <td>0.1</td>\n",
       "      <td>1</td>\n",
       "      <td>0</td>\n",
       "      <td>0</td>\n",
       "      <td>0</td>\n",
       "      <td>222</td>\n",
       "    </tr>\n",
       "    <tr>\n",
       "      <th>1</th>\n",
       "      <td>1</td>\n",
       "      <td>2008-04-18</td>\n",
       "      <td>M Chinnaswamy Stadium</td>\n",
       "      <td>Kolkata Knight Riders</td>\n",
       "      <td>Royal Challengers Bangalore</td>\n",
       "      <td>BB McCullum</td>\n",
       "      <td>P Kumar</td>\n",
       "      <td>1</td>\n",
       "      <td>0</td>\n",
       "      <td>0.2</td>\n",
       "      <td>1</td>\n",
       "      <td>0</td>\n",
       "      <td>0</td>\n",
       "      <td>0</td>\n",
       "      <td>222</td>\n",
       "    </tr>\n",
       "    <tr>\n",
       "      <th>2</th>\n",
       "      <td>1</td>\n",
       "      <td>2008-04-18</td>\n",
       "      <td>M Chinnaswamy Stadium</td>\n",
       "      <td>Kolkata Knight Riders</td>\n",
       "      <td>Royal Challengers Bangalore</td>\n",
       "      <td>BB McCullum</td>\n",
       "      <td>P Kumar</td>\n",
       "      <td>2</td>\n",
       "      <td>0</td>\n",
       "      <td>0.2</td>\n",
       "      <td>2</td>\n",
       "      <td>0</td>\n",
       "      <td>0</td>\n",
       "      <td>0</td>\n",
       "      <td>222</td>\n",
       "    </tr>\n",
       "    <tr>\n",
       "      <th>3</th>\n",
       "      <td>1</td>\n",
       "      <td>2008-04-18</td>\n",
       "      <td>M Chinnaswamy Stadium</td>\n",
       "      <td>Kolkata Knight Riders</td>\n",
       "      <td>Royal Challengers Bangalore</td>\n",
       "      <td>BB McCullum</td>\n",
       "      <td>P Kumar</td>\n",
       "      <td>2</td>\n",
       "      <td>0</td>\n",
       "      <td>0.3</td>\n",
       "      <td>2</td>\n",
       "      <td>0</td>\n",
       "      <td>0</td>\n",
       "      <td>0</td>\n",
       "      <td>222</td>\n",
       "    </tr>\n",
       "    <tr>\n",
       "      <th>4</th>\n",
       "      <td>1</td>\n",
       "      <td>2008-04-18</td>\n",
       "      <td>M Chinnaswamy Stadium</td>\n",
       "      <td>Kolkata Knight Riders</td>\n",
       "      <td>Royal Challengers Bangalore</td>\n",
       "      <td>BB McCullum</td>\n",
       "      <td>P Kumar</td>\n",
       "      <td>2</td>\n",
       "      <td>0</td>\n",
       "      <td>0.4</td>\n",
       "      <td>2</td>\n",
       "      <td>0</td>\n",
       "      <td>0</td>\n",
       "      <td>0</td>\n",
       "      <td>222</td>\n",
       "    </tr>\n",
       "  </tbody>\n",
       "</table>\n",
       "</div>"
      ],
      "text/plain": [
       "   mid        date                  venue               bat_team  \\\n",
       "0    1  2008-04-18  M Chinnaswamy Stadium  Kolkata Knight Riders   \n",
       "1    1  2008-04-18  M Chinnaswamy Stadium  Kolkata Knight Riders   \n",
       "2    1  2008-04-18  M Chinnaswamy Stadium  Kolkata Knight Riders   \n",
       "3    1  2008-04-18  M Chinnaswamy Stadium  Kolkata Knight Riders   \n",
       "4    1  2008-04-18  M Chinnaswamy Stadium  Kolkata Knight Riders   \n",
       "\n",
       "                     bowl_team      batsman   bowler  runs  wickets  overs  \\\n",
       "0  Royal Challengers Bangalore   SC Ganguly  P Kumar     1        0    0.1   \n",
       "1  Royal Challengers Bangalore  BB McCullum  P Kumar     1        0    0.2   \n",
       "2  Royal Challengers Bangalore  BB McCullum  P Kumar     2        0    0.2   \n",
       "3  Royal Challengers Bangalore  BB McCullum  P Kumar     2        0    0.3   \n",
       "4  Royal Challengers Bangalore  BB McCullum  P Kumar     2        0    0.4   \n",
       "\n",
       "   runs_last_5  wickets_last_5  striker  non-striker  total  \n",
       "0            1               0        0            0    222  \n",
       "1            1               0        0            0    222  \n",
       "2            2               0        0            0    222  \n",
       "3            2               0        0            0    222  \n",
       "4            2               0        0            0    222  "
      ]
     },
     "execution_count": 9,
     "metadata": {},
     "output_type": "execute_result"
    }
   ],
   "source": [
    "ipl = pd.read_csv(r\"C:\\Users\\Lenovo\\Documents\\githubProjects\\.ipynb_checkpoints\\ipl_data.csv\")\n",
    "ipl.head()"
   ]
  },
  {
   "cell_type": "code",
   "execution_count": 10,
   "id": "e73e7e44",
   "metadata": {},
   "outputs": [],
   "source": [
    "\n",
    "df = ipl.drop(['date', 'runs', 'wickets', 'overs', 'runs_last_5', 'wickets_last_5','mid', 'striker', 'non-striker'], axis =1)\n"
   ]
  },
  {
   "cell_type": "code",
   "execution_count": 11,
   "id": "c7baa53a",
   "metadata": {},
   "outputs": [],
   "source": [
    "X = df.drop(['total'], axis =1)\n",
    "y = df['total']"
   ]
  },
  {
   "cell_type": "code",
   "execution_count": 12,
   "id": "54353f92",
   "metadata": {},
   "outputs": [],
   "source": [
    "from sklearn.preprocessing import LabelEncoder\n",
    "\n",
    "venue_encoder = LabelEncoder()\n",
    "batting_team_encoder = LabelEncoder()\n",
    "bowling_team_encoder = LabelEncoder()\n",
    "striker_encoder = LabelEncoder()\n",
    "bowler_encoder = LabelEncoder()\n",
    "\n",
    "X['venue'] = venue_encoder.fit_transform(X['venue'])\n",
    "X['bat_team'] = batting_team_encoder.fit_transform(X['bat_team'])\n",
    "X['bowl_team'] = bowling_team_encoder.fit_transform(X['bowl_team'])\n",
    "X['batsman'] = striker_encoder.fit_transform(X['batsman'])\n",
    "X['bowler'] = bowler_encoder.fit_transform(X['bowler'])"
   ]
  },
  {
   "cell_type": "code",
   "execution_count": 13,
   "id": "510a7458",
   "metadata": {},
   "outputs": [],
   "source": [
    "from sklearn.model_selection import train_test_split\n",
    "X_train, X_test, y_train, y_test = train_test_split(X, y, test_size=0.3, random_state=42)"
   ]
  },
  {
   "cell_type": "code",
   "execution_count": 14,
   "id": "2ae6367a",
   "metadata": {},
   "outputs": [],
   "source": [
    "from sklearn.preprocessing import MinMaxScaler\n",
    " \n",
    "scaler = MinMaxScaler()\n",
    " \n",
    "X_train_scaled = scaler.fit_transform(X_train)\n",
    "X_test_scaled = scaler.transform(X_test)"
   ]
  },
  {
   "cell_type": "code",
   "execution_count": 15,
   "id": "48a36314",
   "metadata": {},
   "outputs": [
    {
     "name": "stdout",
     "output_type": "stream",
    }
   ],
   "source": [
    "model = keras.Sequential([\n",
    "    keras.layers.Input( shape=(X_train_scaled.shape[1],)), \n",
    "    keras.layers.Dense(512, activation='relu'), \n",
    "    keras.layers.Dense(216, activation='relu'), \n",
    "    keras.layers.Dense(1, activation='linear')  \n",
    "])\n",
    " \n",
    "\n",
    "huber_loss = tf.keras.losses.Huber(delta=1.0)  \n",
    "model.compile(optimizer='adam', loss=huber_loss) "
   ]
  },
  {
   "cell_type": "code",
   "execution_count": 16,
   "id": "7fc10024",
   "metadata": {},
   "outputs": [
    {
     "name": "stdout",
     "output_type": "stream",
     "text": [
      "Epoch 1/50\n",
      "\n",
      "832/832 [==============================] - 4s 3ms/step - loss: 32.0438 - val_loss: 22.3348\n",
      "Epoch 2/50\n",
      "832/832 [==============================] - 2s 3ms/step - loss: 22.3251 - val_loss: 21.9995\n",
      "Epoch 3/50\n",
      "832/832 [==============================] - 3s 3ms/step - loss: 22.3056 - val_loss: 22.4958\n",
      "Epoch 4/50\n",
      "832/832 [==============================] - 3s 3ms/step - loss: 22.1995 - val_loss: 22.1401\n",
      "Epoch 5/50\n",
      "832/832 [==============================] - 3s 3ms/step - loss: 22.1769 - val_loss: 22.0714\n",
      "Epoch 6/50\n",
      "832/832 [==============================] - 3s 3ms/step - loss: 22.1346 - val_loss: 22.5999\n",
      "Epoch 7/50\n",
      "832/832 [==============================] - 3s 3ms/step - loss: 22.0837 - val_loss: 21.8544\n",
      "Epoch 8/50\n",
      "832/832 [==============================] - 2s 3ms/step - loss: 22.0416 - val_loss: 21.7047\n",
      "Epoch 9/50\n",
      "832/832 [==============================] - 3s 3ms/step - loss: 22.0394 - val_loss: 21.7224\n",
      "Epoch 10/50\n",
      "832/832 [==============================] - 3s 3ms/step - loss: 22.0259 - val_loss: 21.7309\n",
      "Epoch 11/50\n",
      "832/832 [==============================] - 3s 3ms/step - loss: 21.9805 - val_loss: 21.6840\n",
      "Epoch 12/50\n",
      "832/832 [==============================] - 3s 3ms/step - loss: 22.0305 - val_loss: 22.1792\n",
      "Epoch 13/50\n",
      "832/832 [==============================] - 3s 3ms/step - loss: 22.0009 - val_loss: 21.9290\n",
      "Epoch 14/50\n",
      "832/832 [==============================] - 3s 3ms/step - loss: 21.9145 - val_loss: 21.5582\n",
      "Epoch 15/50\n",
      "832/832 [==============================] - 3s 3ms/step - loss: 21.8464 - val_loss: 21.4869\n",
      "Epoch 16/50\n",
      "832/832 [==============================] - 3s 3ms/step - loss: 21.7597 - val_loss: 22.1569\n",
      "Epoch 17/50\n",
      "832/832 [==============================] - 3s 3ms/step - loss: 21.6914 - val_loss: 21.4656\n",
      "Epoch 18/50\n",
      "832/832 [==============================] - 3s 3ms/step - loss: 21.5926 - val_loss: 21.3310\n",
      "Epoch 19/50\n",
      "832/832 [==============================] - 3s 3ms/step - loss: 21.5846 - val_loss: 21.9107\n",
      "Epoch 20/50\n",
      "832/832 [==============================] - 3s 3ms/step - loss: 21.5491 - val_loss: 21.1535\n",
      "Epoch 21/50\n",
      "832/832 [==============================] - 3s 3ms/step - loss: 21.4295 - val_loss: 21.5361\n",
      "Epoch 22/50\n",
      "832/832 [==============================] - 3s 3ms/step - loss: 21.3849 - val_loss: 21.0126\n",
      "Epoch 23/50\n",
      "832/832 [==============================] - 3s 3ms/step - loss: 21.2710 - val_loss: 21.6063\n",
      "Epoch 24/50\n",
      "832/832 [==============================] - 3s 3ms/step - loss: 21.2123 - val_loss: 21.1089\n",
      "Epoch 25/50\n",
      "832/832 [==============================] - 3s 3ms/step - loss: 21.1308 - val_loss: 20.9308\n",
      "Epoch 26/50\n",
      "832/832 [==============================] - 3s 3ms/step - loss: 21.1003 - val_loss: 20.8309\n",
      "Epoch 27/50\n",
      "832/832 [==============================] - 3s 3ms/step - loss: 21.0296 - val_loss: 20.8161\n",
      "Epoch 28/50\n",
      "832/832 [==============================] - 3s 3ms/step - loss: 20.9569 - val_loss: 20.6166\n",
      "Epoch 29/50\n",
      "832/832 [==============================] - 3s 3ms/step - loss: 20.9129 - val_loss: 21.0095\n",
      "Epoch 30/50\n",
      "832/832 [==============================] - 2s 3ms/step - loss: 20.8360 - val_loss: 20.9729\n",
      "Epoch 31/50\n",
      "832/832 [==============================] - 3s 3ms/step - loss: 20.8168 - val_loss: 20.4724\n",
      "Epoch 32/50\n",
      "832/832 [==============================] - 3s 3ms/step - loss: 20.7044 - val_loss: 20.4512\n",
      "Epoch 33/50\n",
      "832/832 [==============================] - 3s 3ms/step - loss: 20.6379 - val_loss: 20.6526\n",
      "Epoch 34/50\n",
      "832/832 [==============================] - 3s 3ms/step - loss: 20.5275 - val_loss: 20.2730\n",
      "Epoch 35/50\n",
      "832/832 [==============================] - 3s 3ms/step - loss: 20.4342 - val_loss: 20.0886\n",
      "Epoch 36/50\n",
      "832/832 [==============================] - 3s 4ms/step - loss: 20.3323 - val_loss: 20.0400\n",
      "Epoch 37/50\n",
      "832/832 [==============================] - 3s 4ms/step - loss: 20.2461 - val_loss: 20.1235\n",
      "Epoch 38/50\n",
      "832/832 [==============================] - 3s 3ms/step - loss: 20.1362 - val_loss: 19.9225\n",
      "Epoch 39/50\n",
      "832/832 [==============================] - 3s 4ms/step - loss: 20.0557 - val_loss: 19.7154\n",
      "Epoch 40/50\n",
      "832/832 [==============================] - 3s 3ms/step - loss: 19.9776 - val_loss: 19.7873\n",
      "Epoch 41/50\n",
      "832/832 [==============================] - 3s 3ms/step - loss: 19.8698 - val_loss: 19.8559\n",
      "Epoch 42/50\n",
      "832/832 [==============================] - 3s 3ms/step - loss: 19.8042 - val_loss: 19.8748\n",
      "Epoch 43/50\n",
      "832/832 [==============================] - 3s 3ms/step - loss: 19.7076 - val_loss: 19.4975\n",
      "Epoch 44/50\n",
      "832/832 [==============================] - 3s 3ms/step - loss: 19.6167 - val_loss: 19.5694\n",
      "Epoch 45/50\n",
      "832/832 [==============================] - 2s 3ms/step - loss: 19.5460 - val_loss: 19.1973\n",
      "Epoch 46/50\n",
      "832/832 [==============================] - 2s 3ms/step - loss: 19.4316 - val_loss: 19.1003\n",
      "Epoch 47/50\n",
      "832/832 [==============================] - 3s 3ms/step - loss: 19.3760 - val_loss: 20.1024\n",
      "Epoch 48/50\n",
      "832/832 [==============================] - 3s 3ms/step - loss: 19.2908 - val_loss: 18.9548\n",
      "Epoch 49/50\n",
      "832/832 [==============================] - 3s 3ms/step - loss: 19.1588 - val_loss: 18.8801\n",
      "Epoch 50/50\n",
      "832/832 [==============================] - 3s 4ms/step - loss: 19.0263 - val_loss: 18.7264\n"
     ]
    },
    {
     "data": {
      "text/plain": [
       "<keras.src.callbacks.History at 0x1ed23299ad0>"
      ]
     },
     "execution_count": 16,
     "metadata": {},
     "output_type": "execute_result"
    }
   ],
   "source": [
    "model.fit(X_train_scaled, y_train, epochs=50, batch_size=64, validation_data=(X_test_scaled, y_test))"
   ]
  },
  {
   "cell_type": "code",
   "execution_count": 18,
   "id": "df7851e5",
   "metadata": {},
   "outputs": [
    {
     "name": "stdout",
     "output_type": "stream",
     "text": [
      "713/713 [==============================] - 2s 1ms/step\n"
     ]
    },
    {
     "data": {
      "text/plain": [
       "19.216755795034498"
      ]
     },
     "execution_count": 18,
     "metadata": {},
     "output_type": "execute_result"
    }
   ],
   "source": [
    "predictions = model.predict(X_test_scaled)\n",
    " \n",
    "from sklearn.metrics import mean_absolute_error,mean_squared_error\n",
    "mean_absolute_error(y_test,predictions)"
   ]
  },
  {
   "cell_type": "code",
   "execution_count": 20,
   "id": "400de2f8",
   "metadata": {},
   "outputs": [
    {
     "name": "stdout",
     "output_type": "stream",
     "text": [
      "1/1 [==============================] - 0s 26ms/step\n",
      "159\n"
     ]
    },
    {
     "name": "stderr",
     "output_type": "stream"
    }
   ],
   "source": [
    "\n",
    "decoded_venue = venue_encoder.transform([\"Feroz Shah Kotla\"])\n",
    "decoded_batting_team = batting_team_encoder.transform([\"Rajasthan Royals\"])\n",
    "decoded_bowling_team = bowling_team_encoder.transform([\"Delhi Daredevils\"])\n",
    "decoded_striker = striker_encoder.transform([\"T Kohli\"])\n",
    "decoded_bowler = bowler_encoder.transform([\"GD McGrath\"])\n",
    "  \n",
    "input = np.array([decoded_venue,  decoded_batting_team, decoded_bowling_team,decoded_striker, decoded_bowler])\n",
    "input = input.reshape(1,5)\n",
    "input = scaler.transform(input)\n",
    "        \n",
    "predicted_score = model.predict(input)\n",
    "predicted_score = int(predicted_score[0,0])\n",
    " \n",
    "print(predicted_score)"
   ]
  },
  {
   "cell_type": "code",
   "execution_count": null,
   "id": "b06f986e",
   "metadata": {},
   "outputs": [],
   "source": []
  }
 ],
 "metadata": {
  "kernelspec": {
   "display_name": "Python 3 (ipykernel)",
   "language": "python",
   "name": "python3"
  },
  "language_info": {
   "codemirror_mode": {
    "name": "ipython",
    "version": 3
   },
   "file_extension": ".py",
   "mimetype": "text/x-python",
   "name": "python",
   "nbconvert_exporter": "python",
   "pygments_lexer": "ipython3",
   "version": "3.11.5"
  }
 },
 "nbformat": 4,
 "nbformat_minor": 5
}
